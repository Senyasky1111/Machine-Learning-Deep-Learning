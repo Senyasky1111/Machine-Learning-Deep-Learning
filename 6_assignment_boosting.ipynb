{
  "cells": [
    {
      "cell_type": "markdown",
      "id": "119c9460",
      "metadata": {
        "id": "119c9460"
      },
      "source": [
        "## Home assignment 06: Gradient boosting with MSE\n",
        "\n",
        "Please, fill the lines in the code below.\n",
        "This is a simplified version of `BoostingRegressor` from `sklearn`. Please, notice, that `sklearn` API is **not preserved**.\n",
        "\n",
        "Your algorithm should be able to train different numbers of instances of the same model class. Every target is computed according to the loss function gradient. In this particular case, loss is computed for MSE.\n",
        "\n",
        "The model should be passed as model class with no explicit parameters and no parentheses.\n",
        "\n",
        "Example:\n",
        "```\n",
        "import numpy as np\n",
        "from sklearn.tree import DecisionTreeRegressor\n",
        "\n",
        "boosting_regressor = SimplifiedBoostingRegressor()    \n",
        "boosting_regressor.fit(DecisionTreeRegressor, X, y, 100, 0.5, 10)\n",
        "\n",
        "\n",
        "```"
      ]
    },
    {
      "cell_type": "code",
      "execution_count": 1,
      "id": "31ecde34",
      "metadata": {
        "id": "31ecde34"
      },
      "outputs": [],
      "source": [
        "import numpy as np\n",
        "from tqdm.auto import tqdm\n",
        "from matplotlib import pyplot as plt\n",
        "\n",
        "from sklearn.tree import DecisionTreeRegressor\n",
        "from sklearn.linear_model import LinearRegression\n",
        "from sklearn.datasets import make_regression"
      ]
    },
    {
      "cell_type": "code",
      "source": [
        "class SimplifiedBoostingRegressor:\n",
        "    def __init__(self):\n",
        "        pass\n",
        "\n",
        "    @staticmethod\n",
        "    def loss(targets, predictions):\n",
        "        loss = np.mean((targets - predictions)**2)\n",
        "        return loss\n",
        "\n",
        "    @staticmethod\n",
        "    def loss_gradients(targets, predictions):\n",
        "        gradients = -2 * (targets - predictions)\n",
        "        assert gradients.shape == targets.shape\n",
        "        return gradients\n",
        "\n",
        "\n",
        "    def fit(self, model_constructor, data, targets, num_steps=10, lr=0.1, max_depth=5, verbose=False):\n",
        "        '''\n",
        "        Fit sequence of models on the provided data.\n",
        "        Model constructor with no parameters (and with no ()) is passed to this function.\n",
        "        If\n",
        "\n",
        "        example:\n",
        "\n",
        "        boosting_regressor = SimplifiedBoostingRegressor()\n",
        "        boosting_regressor.fit(DecisionTreeRegressor, X, y, 100, 0.5, 10)\n",
        "        '''\n",
        "        new_targets = targets\n",
        "        self.models_list = []\n",
        "        self.lr = lr\n",
        "        self.loss_log = []\n",
        "        for step in range(num_steps):\n",
        "            try:\n",
        "                model = model_constructor(max_depth=max_depth)\n",
        "            except TypeError:\n",
        "                print('max_depth keyword is not found. Ignoring')\n",
        "                model = model_constructor()\n",
        "            self.models_list.append(model.fit(data, new_targets))\n",
        "            predictions = self.predict(data)\n",
        "            self.loss_log.append(self.loss(targets, predictions))\n",
        "            gradients = self.loss_gradients(targets, predictions)\n",
        "            new_targets = new_targets - lr * gradients\n",
        "        if verbose:\n",
        "            print('Finished! Loss=', self.loss_log[-1])\n",
        "        return self\n",
        "\n",
        "    def predict(self, data):\n",
        "        predictions = np.zeros(len(data))\n",
        "        for model in self.models_list:\n",
        "            predictions += self.lr * model.predict(data)\n",
        "        return predictions"
      ],
      "metadata": {
        "id": "Z_NHZvOj4kiG"
      },
      "id": "Z_NHZvOj4kiG",
      "execution_count": 54,
      "outputs": []
    },
    {
      "cell_type": "markdown",
      "id": "5cfa174f",
      "metadata": {
        "id": "5cfa174f"
      },
      "source": [
        "### Local tests:"
      ]
    },
    {
      "cell_type": "markdown",
      "id": "b54221c2",
      "metadata": {
        "id": "b54221c2"
      },
      "source": [
        "#### Overfitting tests:"
      ]
    },
    {
      "cell_type": "code",
      "execution_count": 57,
      "id": "84c94a8b",
      "metadata": {
        "colab": {
          "base_uri": "https://localhost:8080/",
          "height": 67,
          "referenced_widgets": [
            "ef45cbdc3acf4a768423e18382e73e78",
            "4164d25a1e47434bae014aed1ab5263a",
            "df81658d0f554e30b7a4be7cc546a7ba",
            "bfb6bda8608b4a02919f9b1db751cf50",
            "371083db5464441a9bce8c97fa61f17a",
            "ab8cfd6aa10e4241849483d02658db46",
            "d6b2ec8023fd4f43904c4ae6c7051b96",
            "e7c00486a14542ddb76d1d48d9e2f0cc",
            "1f7c06c2f5e346b49bec72983eecf993",
            "35b6b1f6adae4781a372a241282fea08",
            "a4fcdd9d773149ff8ecfbd6b052d589e"
          ]
        },
        "id": "84c94a8b",
        "outputId": "6cfec826-12e0-45cd-9d2e-90903e4836da"
      },
      "outputs": [
        {
          "output_type": "display_data",
          "data": {
            "text/plain": [
              "  0%|          | 0/10 [00:00<?, ?it/s]"
            ],
            "application/vnd.jupyter.widget-view+json": {
              "version_major": 2,
              "version_minor": 0,
              "model_id": "ef45cbdc3acf4a768423e18382e73e78"
            }
          },
          "metadata": {}
        },
        {
          "output_type": "stream",
          "name": "stdout",
          "text": [
            "Overfitting tests done!\n"
          ]
        }
      ],
      "source": [
        "for _ in tqdm(range(10)):\n",
        "    X = np.random.randn(200, 10)\n",
        "    y = np.random.normal(0, 1, X.shape[0])\n",
        "    boosting_regressor = SimplifiedBoostingRegressor()\n",
        "    boosting_regressor.fit(DecisionTreeRegressor, X, y, 100, 0.5, 10)\n",
        "    assert boosting_regressor.loss_log[-1] > 1e-6, 'Boosting should overfit with many deep trees on simple data!'\n",
        "    assert boosting_regressor.loss_log[0] > 1e-2, 'First tree loos should be not to low!'\n",
        "print('Overfitting tests done!')"
      ]
    },
    {
      "cell_type": "markdown",
      "id": "17e5cfd7",
      "metadata": {
        "id": "17e5cfd7"
      },
      "source": [
        "#### Zero lr tests:"
      ]
    },
    {
      "cell_type": "code",
      "execution_count": 55,
      "id": "a9e60fe4",
      "metadata": {
        "colab": {
          "base_uri": "https://localhost:8080/",
          "height": 67,
          "referenced_widgets": [
            "317a631bbeb5433ab10c7a5ad0915dae",
            "25ca2b3a955844449110b76a9d05ed5a",
            "50e63150cf1c422c886ade6d376ea898",
            "1eb3c711d49b4eacb760db2f74d64a08",
            "33e38e66aee04cb4ba3d8f675f37658f",
            "9d970681c9fb4bcd81fe4a7a00015ef8",
            "df6ea71dd04e4aa48bec2e52015c2015",
            "2d19ff7f94c045dcae65e4325144f83f",
            "d8170de2debc4ac68a5a1b5cd63f39ec",
            "851bbe705e084b6986d8385d32e9adb0",
            "efad5bfd796f4eeea7e4a985e1911c9e"
          ]
        },
        "id": "a9e60fe4",
        "outputId": "5752a8b3-635c-469e-f42d-73ec21135372"
      },
      "outputs": [
        {
          "output_type": "display_data",
          "data": {
            "text/plain": [
              "  0%|          | 0/10 [00:00<?, ?it/s]"
            ],
            "application/vnd.jupyter.widget-view+json": {
              "version_major": 2,
              "version_minor": 0,
              "model_id": "317a631bbeb5433ab10c7a5ad0915dae"
            }
          },
          "metadata": {}
        },
        {
          "output_type": "stream",
          "name": "stdout",
          "text": [
            "Zero lr tests done!\n"
          ]
        }
      ],
      "source": [
        "for _ in tqdm(range(10)):\n",
        "    X = np.random.randn(200, 10)\n",
        "    y = np.random.normal(0, 1, X.shape[0])\n",
        "    boosting_regressor = SimplifiedBoostingRegressor()\n",
        "    boosting_regressor.fit(DecisionTreeRegressor, X, y, 10, 0., 10)\n",
        "    predictions = boosting_regressor.predict(X)\n",
        "    assert all(predictions == 0), 'With zero weight model should predict constant values!'\n",
        "    assert boosting_regressor.loss_log[-1] == boosting_regressor.loss_log[0], 'With zero weight model should not learn anything new!'\n",
        "print('Zero lr tests done!')"
      ]
    },
    {
      "cell_type": "markdown",
      "id": "fc2faafe",
      "metadata": {
        "id": "fc2faafe"
      },
      "source": [
        "#### Fitting test"
      ]
    },
    {
      "cell_type": "code",
      "execution_count": null,
      "id": "2710d9cf",
      "metadata": {
        "id": "2710d9cf"
      },
      "outputs": [],
      "source": [
        "for _ in tqdm(range(10)):\n",
        "    data, targets = make_regression(1000, 10)\n",
        "    indices = np.arange(len(data))\n",
        "    np.random.shuffle(indices)\n",
        "    data_train, targets_train = data[indices[:700]], targets[indices[:700]]\n",
        "    data_val, targets_val = data[indices[700:]], targets[indices[700:]]\n",
        "\n",
        "\n",
        "    train_loss_log = []\n",
        "    val_loss_log = []\n",
        "    for depth in range(1, 25):\n",
        "        boosting_regressor = SimplifiedBoostingRegressor()\n",
        "\n",
        "        boosting_regressor.fit(DecisionTreeRegressor, data_train, targets_train, depth, 0.2, 5)\n",
        "        predictions_train = boosting_regressor.predict(data_train)\n",
        "        predictions_val = boosting_regressor.predict(data_val)\n",
        "        train_loss_log.append(np.mean((predictions_train-targets_train)**2))\n",
        "        val_loss_log.append(np.mean((predictions_val-targets_val)**2))\n",
        "\n",
        "    assert train_loss_log[-2] > train_loss_log[-1] and abs(train_loss_log[-2]/train_loss_log[-1]) < 2, '{}, {}'.format(train_loss_log[-2], train_loss_log[-1])"
      ]
    },
    {
      "cell_type": "markdown",
      "id": "2eedf99c",
      "metadata": {
        "id": "2eedf99c"
      },
      "source": [
        "Here is your convergence plot from the last run:"
      ]
    },
    {
      "cell_type": "code",
      "execution_count": 59,
      "id": "1bae7383",
      "metadata": {
        "colab": {
          "base_uri": "https://localhost:8080/",
          "height": 467
        },
        "id": "1bae7383",
        "outputId": "9459157d-3628-4a7d-eacb-fdb431aacde0"
      },
      "outputs": [
        {
          "output_type": "execute_result",
          "data": {
            "text/plain": [
              "<matplotlib.legend.Legend at 0x7fb53a3bbbe0>"
            ]
          },
          "metadata": {},
          "execution_count": 59
        },
        {
          "output_type": "display_data",
          "data": {
            "text/plain": [
              "<Figure size 640x480 with 1 Axes>"
            ],
            "image/png": "[encoded data removed]"
          },
          "metadata": {}
        }
      ],
      "source": [
        "plt.plot(range(1, len(train_loss_log)+1), train_loss_log, label='train')\n",
        "plt.plot(range(1, len(val_loss_log)+1), val_loss_log, label='val')\n",
        "plt.xlabel('Ensemble size')\n",
        "plt.ylabel('Error')\n",
        "plt.legend()"
      ]
    }
  ],
  "metadata": {
    "kernelspec": {
      "display_name": "Py3 Research",
      "language": "python",
      "name": "py3_research"
    },
    "language_info": {
      "codemirror_mode": {
        "name": "ipython",
        "version": 3
      },
      "file_extension": ".py",
      "mimetype": "text/x-python",
      "name": "python",
      "nbconvert_exporter": "python",
      "pygments_lexer": "ipython3",
      "version": "3.9.16"
    },
    "colab": {
      "provenance": []
    },
    "widgets": {
      "application/vnd.jupyter.widget-state+json": {
        "ef45cbdc3acf4a768423e18382e73e78": {
          "model_module": "@jupyter-widgets/controls",
          "model_name": "HBoxModel",
          "model_module_version": "1.5.0",
          "state": {
            "_dom_classes": [],
            "_model_module": "@jupyter-widgets/controls",
            "_model_module_version": "1.5.0",
            "_model_name": "HBoxModel",
            "_view_count": null,
            "_view_module": "@jupyter-widgets/controls",
            "_view_module_version": "1.5.0",
            "_view_name": "HBoxView",
            "box_style": "",
            "children": [
              "IPY_MODEL_4164d25a1e47434bae014aed1ab5263a",
              "IPY_MODEL_df81658d0f554e30b7a4be7cc546a7ba",
              "IPY_MODEL_bfb6bda8608b4a02919f9b1db751cf50"
            ],
            "layout": "IPY_MODEL_371083db5464441a9bce8c97fa61f17a"
          }
        },
        "4164d25a1e47434bae014aed1ab5263a": {
          "model_module": "@jupyter-widgets/controls",
          "model_name": "HTMLModel",
          "model_module_version": "1.5.0",
          "state": {
            "_dom_classes": [],
            "_model_module": "@jupyter-widgets/controls",
            "_model_module_version": "1.5.0",
            "_model_name": "HTMLModel",
            "_view_count": null,
            "_view_module": "@jupyter-widgets/controls",
            "_view_module_version": "1.5.0",
            "_view_name": "HTMLView",
            "description": "",
            "description_tooltip": null,
            "layout": "IPY_MODEL_ab8cfd6aa10e4241849483d02658db46",
            "placeholder": "​",
            "style": "IPY_MODEL_d6b2ec8023fd4f43904c4ae6c7051b96",
            "value": "100%"
          }
        },
        "df81658d0f554e30b7a4be7cc546a7ba": {
          "model_module": "@jupyter-widgets/controls",
          "model_name": "FloatProgressModel",
          "model_module_version": "1.5.0",
          "state": {
            "_dom_classes": [],
            "_model_module": "@jupyter-widgets/controls",
            "_model_module_version": "1.5.0",
            "_model_name": "FloatProgressModel",
            "_view_count": null,
            "_view_module": "@jupyter-widgets/controls",
            "_view_module_version": "1.5.0",
            "_view_name": "ProgressView",
            "bar_style": "success",
            "description": "",
            "description_tooltip": null,
            "layout": "IPY_MODEL_e7c00486a14542ddb76d1d48d9e2f0cc",
            "max": 10,
            "min": 0,
            "orientation": "horizontal",
            "style": "IPY_MODEL_1f7c06c2f5e346b49bec72983eecf993",
            "value": 10
          }
        },
        "bfb6bda8608b4a02919f9b1db751cf50": {
          "model_module": "@jupyter-widgets/controls",
          "model_name": "HTMLModel",
          "model_module_version": "1.5.0",
          "state": {
            "_dom_classes": [],
            "_model_module": "@jupyter-widgets/controls",
            "_model_module_version": "1.5.0",
            "_model_name": "HTMLModel",
            "_view_count": null,
            "_view_module": "@jupyter-widgets/controls",
            "_view_module_version": "1.5.0",
            "_view_name": "HTMLView",
            "description": "",
            "description_tooltip": null,
            "layout": "IPY_MODEL_35b6b1f6adae4781a372a241282fea08",
            "placeholder": "​",
            "style": "IPY_MODEL_a4fcdd9d773149ff8ecfbd6b052d589e",
            "value": " 10/10 [00:09&lt;00:00,  1.21it/s]"
          }
        },
        "371083db5464441a9bce8c97fa61f17a": {
          "model_module": "@jupyter-widgets/base",
          "model_name": "LayoutModel",
          "model_module_version": "1.2.0",
          "state": {
            "_model_module": "@jupyter-widgets/base",
            "_model_module_version": "1.2.0",
            "_model_name": "LayoutModel",
            "_view_count": null,
            "_view_module": "@jupyter-widgets/base",
            "_view_module_version": "1.2.0",
            "_view_name": "LayoutView",
            "align_content": null,
            "align_items": null,
            "align_self": null,
            "border": null,
            "bottom": null,
            "display": null,
            "flex": null,
            "flex_flow": null,
            "grid_area": null,
            "grid_auto_columns": null,
            "grid_auto_flow": null,
            "grid_auto_rows": null,
            "grid_column": null,
            "grid_gap": null,
            "grid_row": null,
            "grid_template_areas": null,
            "grid_template_columns": null,
            "grid_template_rows": null,
            "height": null,
            "justify_content": null,
            "justify_items": null,
            "left": null,
            "margin": null,
            "max_height": null,
            "max_width": null,
            "min_height": null,
            "min_width": null,
            "object_fit": null,
            "object_position": null,
            "order": null,
            "overflow": null,
            "overflow_x": null,
            "overflow_y": null,
            "padding": null,
            "right": null,
            "top": null,
            "visibility": null,
            "width": null
          }
        },
        "ab8cfd6aa10e4241849483d02658db46": {
          "model_module": "@jupyter-widgets/base",
          "model_name": "LayoutModel",
          "model_module_version": "1.2.0",
          "state": {
            "_model_module": "@jupyter-widgets/base",
            "_model_module_version": "1.2.0",
            "_model_name": "LayoutModel",
            "_view_count": null,
            "_view_module": "@jupyter-widgets/base",
            "_view_module_version": "1.2.0",
            "_view_name": "LayoutView",
            "align_content": null,
            "align_items": null,
            "align_self": null,
            "border": null,
            "bottom": null,
            "display": null,
            "flex": null,
            "flex_flow": null,
            "grid_area": null,
            "grid_auto_columns": null,
            "grid_auto_flow": null,
            "grid_auto_rows": null,
            "grid_column": null,
            "grid_gap": null,
            "grid_row": null,
            "grid_template_areas": null,
            "grid_template_columns": null,
            "grid_template_rows": null,
            "height": null,
            "justify_content": null,
            "justify_items": null,
            "left": null,
            "margin": null,
            "max_height": null,
            "max_width": null,
            "min_height": null,
            "min_width": null,
            "object_fit": null,
            "object_position": null,
            "order": null,
            "overflow": null,
            "overflow_x": null,
            "overflow_y": null,
            "padding": null,
            "right": null,
            "top": null,
            "visibility": null,
            "width": null
          }
        },
        "d6b2ec8023fd4f43904c4ae6c7051b96": {
          "model_module": "@jupyter-widgets/controls",
          "model_name": "DescriptionStyleModel",
          "model_module_version": "1.5.0",
          "state": {
            "_model_module": "@jupyter-widgets/controls",
            "_model_module_version": "1.5.0",
            "_model_name": "DescriptionStyleModel",
            "_view_count": null,
            "_view_module": "@jupyter-widgets/base",
            "_view_module_version": "1.2.0",
            "_view_name": "StyleView",
            "description_width": ""
          }
        },
        "e7c00486a14542ddb76d1d48d9e2f0cc": {
          "model_module": "@jupyter-widgets/base",
          "model_name": "LayoutModel",
          "model_module_version": "1.2.0",
          "state": {
            "_model_module": "@jupyter-widgets/base",
            "_model_module_version": "1.2.0",
            "_model_name": "LayoutModel",
            "_view_count": null,
            "_view_module": "@jupyter-widgets/base",
            "_view_module_version": "1.2.0",
            "_view_name": "LayoutView",
            "align_content": null,
            "align_items": null,
            "align_self": null,
            "border": null,
            "bottom": null,
            "display": null,
            "flex": null,
            "flex_flow": null,
            "grid_area": null,
            "grid_auto_columns": null,
            "grid_auto_flow": null,
            "grid_auto_rows": null,
            "grid_column": null,
            "grid_gap": null,
            "grid_row": null,
            "grid_template_areas": null,
            "grid_template_columns": null,
            "grid_template_rows": null,
            "height": null,
            "justify_content": null,
            "justify_items": null,
            "left": null,
            "margin": null,
            "max_height": null,
            "max_width": null,
            "min_height": null,
            "min_width": null,
            "object_fit": null,
            "object_position": null,
            "order": null,
            "overflow": null,
            "overflow_x": null,
            "overflow_y": null,
            "padding": null,
            "right": null,
            "top": null,
            "visibility": null,
            "width": null
          }
        },
        "1f7c06c2f5e346b49bec72983eecf993": {
          "model_module": "@jupyter-widgets/controls",
          "model_name": "ProgressStyleModel",
          "model_module_version": "1.5.0",
          "state": {
            "_model_module": "@jupyter-widgets/controls",
            "_model_module_version": "1.5.0",
            "_model_name": "ProgressStyleModel",
            "_view_count": null,
            "_view_module": "@jupyter-widgets/base",
            "_view_module_version": "1.2.0",
            "_view_name": "StyleView",
            "bar_color": null,
            "description_width": ""
          }
        },
        "35b6b1f6adae4781a372a241282fea08": {
          "model_module": "@jupyter-widgets/base",
          "model_name": "LayoutModel",
          "model_module_version": "1.2.0",
          "state": {
            "_model_module": "@jupyter-widgets/base",
            "_model_module_version": "1.2.0",
            "_model_name": "LayoutModel",
            "_view_count": null,
            "_view_module": "@jupyter-widgets/base",
            "_view_module_version": "1.2.0",
            "_view_name": "LayoutView",
            "align_content": null,
            "align_items": null,
            "align_self": null,
            "border": null,
            "bottom": null,
            "display": null,
            "flex": null,
            "flex_flow": null,
            "grid_area": null,
            "grid_auto_columns": null,
            "grid_auto_flow": null,
            "grid_auto_rows": null,
            "grid_column": null,
            "grid_gap": null,
            "grid_row": null,
            "grid_template_areas": null,
            "grid_template_columns": null,
            "grid_template_rows": null,
            "height": null,
            "justify_content": null,
            "justify_items": null,
            "left": null,
            "margin": null,
            "max_height": null,
            "max_width": null,
            "min_height": null,
            "min_width": null,
            "object_fit": null,
            "object_position": null,
            "order": null,
            "overflow": null,
            "overflow_x": null,
            "overflow_y": null,
            "padding": null,
            "right": null,
            "top": null,
            "visibility": null,
            "width": null
          }
        },
        "a4fcdd9d773149ff8ecfbd6b052d589e": {
          "model_module": "@jupyter-widgets/controls",
          "model_name": "DescriptionStyleModel",
          "model_module_version": "1.5.0",
          "state": {
            "_model_module": "@jupyter-widgets/controls",
            "_model_module_version": "1.5.0",
            "_model_name": "DescriptionStyleModel",
            "_view_count": null,
            "_view_module": "@jupyter-widgets/base",
            "_view_module_version": "1.2.0",
            "_view_name": "StyleView",
            "description_width": ""
          }
        },
        "317a631bbeb5433ab10c7a5ad0915dae": {
          "model_module": "@jupyter-widgets/controls",
          "model_name": "HBoxModel",
          "model_module_version": "1.5.0",
          "state": {
            "_dom_classes": [],
            "_model_module": "@jupyter-widgets/controls",
            "_model_module_version": "1.5.0",
            "_model_name": "HBoxModel",
            "_view_count": null,
            "_view_module": "@jupyter-widgets/controls",
            "_view_module_version": "1.5.0",
            "_view_name": "HBoxView",
            "box_style": "",
            "children": [
              "IPY_MODEL_25ca2b3a955844449110b76a9d05ed5a",
              "IPY_MODEL_50e63150cf1c422c886ade6d376ea898",
              "IPY_MODEL_1eb3c711d49b4eacb760db2f74d64a08"
            ],
            "layout": "IPY_MODEL_33e38e66aee04cb4ba3d8f675f37658f"
          }
        },
        "25ca2b3a955844449110b76a9d05ed5a": {
          "model_module": "@jupyter-widgets/controls",
          "model_name": "HTMLModel",
          "model_module_version": "1.5.0",
          "state": {
            "_dom_classes": [],
            "_model_module": "@jupyter-widgets/controls",
            "_model_module_version": "1.5.0",
            "_model_name": "HTMLModel",
            "_view_count": null,
            "_view_module": "@jupyter-widgets/controls",
            "_view_module_version": "1.5.0",
            "_view_name": "HTMLView",
            "description": "",
            "description_tooltip": null,
            "layout": "IPY_MODEL_9d970681c9fb4bcd81fe4a7a00015ef8",
            "placeholder": "​",
            "style": "IPY_MODEL_df6ea71dd04e4aa48bec2e52015c2015",
            "value": "100%"
          }
        },
        "50e63150cf1c422c886ade6d376ea898": {
          "model_module": "@jupyter-widgets/controls",
          "model_name": "FloatProgressModel",
          "model_module_version": "1.5.0",
          "state": {
            "_dom_classes": [],
            "_model_module": "@jupyter-widgets/controls",
            "_model_module_version": "1.5.0",
            "_model_name": "FloatProgressModel",
            "_view_count": null,
            "_view_module": "@jupyter-widgets/controls",
            "_view_module_version": "1.5.0",
            "_view_name": "ProgressView",
            "bar_style": "success",
            "description": "",
            "description_tooltip": null,
            "layout": "IPY_MODEL_2d19ff7f94c045dcae65e4325144f83f",
            "max": 10,
            "min": 0,
            "orientation": "horizontal",
            "style": "IPY_MODEL_d8170de2debc4ac68a5a1b5cd63f39ec",
            "value": 10
          }
        },
        "1eb3c711d49b4eacb760db2f74d64a08": {
          "model_module": "@jupyter-widgets/controls",
          "model_name": "HTMLModel",
          "model_module_version": "1.5.0",
          "state": {
            "_dom_classes": [],
            "_model_module": "@jupyter-widgets/controls",
            "_model_module_version": "1.5.0",
            "_model_name": "HTMLModel",
            "_view_count": null,
            "_view_module": "@jupyter-widgets/controls",
            "_view_module_version": "1.5.0",
            "_view_name": "HTMLView",
            "description": "",
            "description_tooltip": null,
            "layout": "IPY_MODEL_851bbe705e084b6986d8385d32e9adb0",
            "placeholder": "​",
            "style": "IPY_MODEL_efad5bfd796f4eeea7e4a985e1911c9e",
            "value": " 10/10 [00:00&lt;00:00, 30.09it/s]"
          }
        },
        "33e38e66aee04cb4ba3d8f675f37658f": {
          "model_module": "@jupyter-widgets/base",
          "model_name": "LayoutModel",
          "model_module_version": "1.2.0",
          "state": {
            "_model_module": "@jupyter-widgets/base",
            "_model_module_version": "1.2.0",
            "_model_name": "LayoutModel",
            "_view_count": null,
            "_view_module": "@jupyter-widgets/base",
            "_view_module_version": "1.2.0",
            "_view_name": "LayoutView",
            "align_content": null,
            "align_items": null,
            "align_self": null,
            "border": null,
            "bottom": null,
            "display": null,
            "flex": null,
            "flex_flow": null,
            "grid_area": null,
            "grid_auto_columns": null,
            "grid_auto_flow": null,
            "grid_auto_rows": null,
            "grid_column": null,
            "grid_gap": null,
            "grid_row": null,
            "grid_template_areas": null,
            "grid_template_columns": null,
            "grid_template_rows": null,
            "height": null,
            "justify_content": null,
            "justify_items": null,
            "left": null,
            "margin": null,
            "max_height": null,
            "max_width": null,
            "min_height": null,
            "min_width": null,
            "object_fit": null,
            "object_position": null,
            "order": null,
            "overflow": null,
            "overflow_x": null,
            "overflow_y": null,
            "padding": null,
            "right": null,
            "top": null,
            "visibility": null,
            "width": null
          }
        },
        "9d970681c9fb4bcd81fe4a7a00015ef8": {
          "model_module": "@jupyter-widgets/base",
          "model_name": "LayoutModel",
          "model_module_version": "1.2.0",
          "state": {
            "_model_module": "@jupyter-widgets/base",
            "_model_module_version": "1.2.0",
            "_model_name": "LayoutModel",
            "_view_count": null,
            "_view_module": "@jupyter-widgets/base",
            "_view_module_version": "1.2.0",
            "_view_name": "LayoutView",
            "align_content": null,
            "align_items": null,
            "align_self": null,
            "border": null,
            "bottom": null,
            "display": null,
            "flex": null,
            "flex_flow": null,
            "grid_area": null,
            "grid_auto_columns": null,
            "grid_auto_flow": null,
            "grid_auto_rows": null,
            "grid_column": null,
            "grid_gap": null,
            "grid_row": null,
            "grid_template_areas": null,
            "grid_template_columns": null,
            "grid_template_rows": null,
            "height": null,
            "justify_content": null,
            "justify_items": null,
            "left": null,
            "margin": null,
            "max_height": null,
            "max_width": null,
            "min_height": null,
            "min_width": null,
            "object_fit": null,
            "object_position": null,
            "order": null,
            "overflow": null,
            "overflow_x": null,
            "overflow_y": null,
            "padding": null,
            "right": null,
            "top": null,
            "visibility": null,
            "width": null
          }
        },
        "df6ea71dd04e4aa48bec2e52015c2015": {
          "model_module": "@jupyter-widgets/controls",
          "model_name": "DescriptionStyleModel",
          "model_module_version": "1.5.0",
          "state": {
            "_model_module": "@jupyter-widgets/controls",
            "_model_module_version": "1.5.0",
            "_model_name": "DescriptionStyleModel",
            "_view_count": null,
            "_view_module": "@jupyter-widgets/base",
            "_view_module_version": "1.2.0",
            "_view_name": "StyleView",
            "description_width": ""
          }
        },
        "2d19ff7f94c045dcae65e4325144f83f": {
          "model_module": "@jupyter-widgets/base",
          "model_name": "LayoutModel",
          "model_module_version": "1.2.0",
          "state": {
            "_model_module": "@jupyter-widgets/base",
            "_model_module_version": "1.2.0",
            "_model_name": "LayoutModel",
            "_view_count": null,
            "_view_module": "@jupyter-widgets/base",
            "_view_module_version": "1.2.0",
            "_view_name": "LayoutView",
            "align_content": null,
            "align_items": null,
            "align_self": null,
            "border": null,
            "bottom": null,
            "display": null,
            "flex": null,
            "flex_flow": null,
            "grid_area": null,
            "grid_auto_columns": null,
            "grid_auto_flow": null,
            "grid_auto_rows": null,
            "grid_column": null,
            "grid_gap": null,
            "grid_row": null,
            "grid_template_areas": null,
            "grid_template_columns": null,
            "grid_template_rows": null,
            "height": null,
            "justify_content": null,
            "justify_items": null,
            "left": null,
            "margin": null,
            "max_height": null,
            "max_width": null,
            "min_height": null,
            "min_width": null,
            "object_fit": null,
            "object_position": null,
            "order": null,
            "overflow": null,
            "overflow_x": null,
            "overflow_y": null,
            "padding": null,
            "right": null,
            "top": null,
            "visibility": null,
            "width": null
          }
        },
        "d8170de2debc4ac68a5a1b5cd63f39ec": {
          "model_module": "@jupyter-widgets/controls",
          "model_name": "ProgressStyleModel",
          "model_module_version": "1.5.0",
          "state": {
            "_model_module": "@jupyter-widgets/controls",
            "_model_module_version": "1.5.0",
            "_model_name": "ProgressStyleModel",
            "_view_count": null,
            "_view_module": "@jupyter-widgets/base",
            "_view_module_version": "1.2.0",
            "_view_name": "StyleView",
            "bar_color": null,
            "description_width": ""
          }
        },
        "851bbe705e084b6986d8385d32e9adb0": {
          "model_module": "@jupyter-widgets/base",
          "model_name": "LayoutModel",
          "model_module_version": "1.2.0",
          "state": {
            "_model_module": "@jupyter-widgets/base",
            "_model_module_version": "1.2.0",
            "_model_name": "LayoutModel",
            "_view_count": null,
            "_view_module": "@jupyter-widgets/base",
            "_view_module_version": "1.2.0",
            "_view_name": "LayoutView",
            "align_content": null,
            "align_items": null,
            "align_self": null,
            "border": null,
            "bottom": null,
            "display": null,
            "flex": null,
            "flex_flow": null,
            "grid_area": null,
            "grid_auto_columns": null,
            "grid_auto_flow": null,
            "grid_auto_rows": null,
            "grid_column": null,
            "grid_gap": null,
            "grid_row": null,
            "grid_template_areas": null,
            "grid_template_columns": null,
            "grid_template_rows": null,
            "height": null,
            "justify_content": null,
            "justify_items": null,
            "left": null,
            "margin": null,
            "max_height": null,
            "max_width": null,
            "min_height": null,
            "min_width": null,
            "object_fit": null,
            "object_position": null,
            "order": null,
            "overflow": null,
            "overflow_x": null,
            "overflow_y": null,
            "padding": null,
            "right": null,
            "top": null,
            "visibility": null,
            "width": null
          }
        },
        "efad5bfd796f4eeea7e4a985e1911c9e": {
          "model_module": "@jupyter-widgets/controls",
          "model_name": "DescriptionStyleModel",
          "model_module_version": "1.5.0",
          "state": {
            "_model_module": "@jupyter-widgets/controls",
            "_model_module_version": "1.5.0",
            "_model_name": "DescriptionStyleModel",
            "_view_count": null,
            "_view_module": "@jupyter-widgets/base",
            "_view_module_version": "1.2.0",
            "_view_name": "StyleView",
            "description_width": ""
          }
        }
      }
    }
  },
  "nbformat": 4,
  "nbformat_minor": 5
}