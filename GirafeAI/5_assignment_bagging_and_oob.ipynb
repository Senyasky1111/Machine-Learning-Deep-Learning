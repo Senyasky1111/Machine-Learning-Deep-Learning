{
  "cells": [
    {
      "cell_type": "markdown",
      "id": "119c9460",
      "metadata": {
        "id": "119c9460"
      },
      "source": [
        "## Home assignment 05: Bagging and OOB score\n",
        "\n",
        "Please, fill the lines in the code below.\n",
        "This is a simplified version of `BaggingRegressor` from `sklearn`. Please, notice, that `sklearn` API is **not preserved**.\n",
        "\n",
        "Your algorithm should be able to train different instances of the same model class on bootstrapped datasets and to provide [OOB score](https://en.wikipedia.org/wiki/Out-of-bag_error) for the training set.\n",
        "\n",
        "The model should be passed as model class with no explicit parameters and no parentheses.\n",
        "\n",
        "Example:\n",
        "```\n",
        "import numpy as np\n",
        "from sklearn.linear_model import LinearRegression\n",
        "\n",
        "bagging_regressor = SimplifiedBaggingRegressor(num_bags=10, oob=True)\n",
        "bagging_regressor.fit(LinearRegression, X, y)\n",
        "\n",
        "```"
      ]
    },
    {
      "cell_type": "code",
      "execution_count": 1,
      "id": "31ecde34",
      "metadata": {
        "id": "31ecde34"
      },
      "outputs": [],
      "source": [
        "import numpy as np"
      ]
    },
    {
      "cell_type": "code",
      "source": [
        "class SimplifiedBaggingRegressor:\n",
        "    def __init__(self, num_bags, oob=False):\n",
        "        self.num_bags = num_bags\n",
        "        self.oob = oob\n",
        "        self.indices_list = []\n",
        "        self.models_list = []\n",
        "        self.data = None\n",
        "        self.target = None\n",
        "        self.oob_predictions = None\n",
        "\n",
        "    def _generate_splits(self, data: np.ndarray):\n",
        "        '''\n",
        "        Generate indices for every bag and store in self.indices_list list\n",
        "        '''\n",
        "        self.indices_list = [np.random.choice(len(data), len(data), replace=True) for _ in range(self.num_bags)]\n",
        "\n",
        "    def fit(self, model_constructor, data, target):\n",
        "        '''\n",
        "        Fit model on every bag.\n",
        "        Model constructor with no parameters (and with no ()) is passed to this function.\n",
        "\n",
        "        example:\n",
        "\n",
        "        bagging_regressor = SimplifiedBaggingRegressor(num_bags=10, oob=True)\n",
        "        bagging_regressor.fit(LinearRegression, X, y)\n",
        "        '''\n",
        "        self.data = data\n",
        "        self.target = target\n",
        "        self._generate_splits(data)\n",
        "        assert len(set(list(map(len, self.indices_list)))) == 1, 'All bags should be of the same length!'\n",
        "        assert list(map(len, self.indices_list))[0] == len(data), 'All bags should contain len(data) number of elements!'\n",
        "\n",
        "        for bag_indices in self.indices_list:\n",
        "            model = model_constructor()\n",
        "            data_bag, target_bag = data[bag_indices], target[bag_indices]\n",
        "            self.models_list.append(model.fit(data_bag, target_bag))  # store fitted models here\n",
        "\n",
        "    def predict(self, data):\n",
        "        '''\n",
        "        Get average prediction for every object from passed dataset\n",
        "        '''\n",
        "        predictions = np.array([model.predict(data) for model in self.models_list])\n",
        "        return np.mean(predictions, axis=0)\n",
        "\n",
        "    def _get_oob_predictions_from_every_model(self):\n",
        "        '''\n",
        "        Generates list of lists, where list i contains predictions for self.data[i] object\n",
        "        from all models, which have not seen this object during the training phase\n",
        "        '''\n",
        "        list_of_predictions_lists = [[] for _ in range(len(self.data))]\n",
        "\n",
        "        for i, instance in enumerate(self.data):\n",
        "            for j, indices in enumerate(self.indices_list):\n",
        "                if i not in indices:\n",
        "                    list_of_predictions_lists[i].append(self.models_list[j].predict([instance])[0])\n",
        "\n",
        "        self.list_of_predictions_lists = np.array(list_of_predictions_lists, dtype=object)\n",
        "\n",
        "    def _get_averaged_oob_predictions(self):\n",
        "        '''\n",
        "        Compute average prediction for every object from the training set.\n",
        "        If an object has been used in all bags during the training phase, return None instead of prediction\n",
        "        '''\n",
        "        self._get_oob_predictions_from_every_model()\n",
        "        self.oob_predictions = np.array([np.mean(predictions) if predictions else None for predictions in self.list_of_predictions_lists])\n",
        "\n",
        "    def OOB_score(self):\n",
        "        '''\n",
        "        Compute mean square error for all objects, which have at least one prediction\n",
        "        '''\n",
        "        self._get_averaged_oob_predictions()\n",
        "\n",
        "        valid_indices = [i for i, predictions in enumerate(self.list_of_predictions_lists) if predictions]\n",
        "        squared_errors = [(self.target[i] - self.oob_predictions[i])**2 for i in valid_indices]\n",
        "        mse = sum(squared_errors) / len(valid_indices) if valid_indices else None\n",
        "        return mse"
      ],
      "metadata": {
        "id": "WZ1hp6LquutQ"
      },
      "id": "WZ1hp6LquutQ",
      "execution_count": 16,
      "outputs": []
    },
    {
      "cell_type": "markdown",
      "id": "5cfa174f",
      "metadata": {
        "id": "5cfa174f"
      },
      "source": [
        "### Local tests:"
      ]
    },
    {
      "cell_type": "code",
      "execution_count": 4,
      "id": "eaa2e710",
      "metadata": {
        "id": "eaa2e710"
      },
      "outputs": [],
      "source": [
        "from sklearn.linear_model import LinearRegression\n",
        "from tqdm.auto import tqdm"
      ]
    },
    {
      "cell_type": "markdown",
      "id": "b54221c2",
      "metadata": {
        "id": "b54221c2"
      },
      "source": [
        "#### Simple tests:"
      ]
    },
    {
      "cell_type": "code",
      "execution_count": 17,
      "id": "84c94a8b",
      "metadata": {
        "colab": {
          "base_uri": "https://localhost:8080/",
          "height": 67,
          "referenced_widgets": [
            "a220a474b7054bc7b1081544e6a12c41",
            "39045af389ff4a40bd32195b82da5dd4",
            "75cb208312c142328fe60465a2e0f763",
            "e78df4f21345435887db34f82089dfca",
            "422ce3c9750745fca8e41bd94250ac14",
            "0df8bca7722947aaa8a3c2fe7f235312",
            "2a47b0d86f554f8398705e05b210bcba",
            "93aac57a38d34dcfaa1db01565675cd3",
            "21080f8b8bb54afd88c3f84044ec58d2",
            "16404250279b4621b454608f2bda0f1e",
            "82ef5af999cd4fa1bee0901ece71cfc8"
          ]
        },
        "id": "84c94a8b",
        "outputId": "f7221a08-f459-4200-bf43-e13cd094857b"
      },
      "outputs": [
        {
          "output_type": "display_data",
          "data": {
            "text/plain": [
              "  0%|          | 0/100 [00:00<?, ?it/s]"
            ],
            "application/vnd.jupyter.widget-view+json": {
              "version_major": 2,
              "version_minor": 0,
              "model_id": "a220a474b7054bc7b1081544e6a12c41"
            }
          },
          "metadata": {}
        },
        {
          "output_type": "stream",
          "name": "stdout",
          "text": [
            "Simple tests done!\n"
          ]
        }
      ],
      "source": [
        "for _ in tqdm(range(100)):\n",
        "    X = np.random.randn(2000, 10)\n",
        "    y = np.mean(X, axis=1)\n",
        "    bagging_regressor = SimplifiedBaggingRegressor(num_bags=10, oob=True)\n",
        "    bagging_regressor.fit(LinearRegression, X, y)\n",
        "    predictions = bagging_regressor.predict(X)\n",
        "    assert np.mean((predictions - y)**2) < 1e-6, 'Linear dependency should be fitted with almost zero error!'\n",
        "    assert bagging_regressor.oob, 'OOB feature must be turned on'\n",
        "    oob_score = bagging_regressor.OOB_score()\n",
        "    assert oob_score < 1e-6, 'OOB error for linear dependency should be also close to zero!'\n",
        "    assert abs(\n",
        "        np.mean(\n",
        "            list(map(len, bagging_regressor.list_of_predictions_lists))\n",
        "        ) / bagging_regressor.num_bags - 1/np.exp(1)) < 0.1, 'Probability of missing a bag should be close to theoretical value!'\n",
        "\n",
        "print('Simple tests done!')"
      ]
    },
    {
      "cell_type": "markdown",
      "id": "4be4d037",
      "metadata": {
        "id": "4be4d037"
      },
      "source": [
        "#### Medium tests"
      ]
    },
    {
      "cell_type": "code",
      "execution_count": 18,
      "id": "0cfd3a21",
      "metadata": {
        "colab": {
          "base_uri": "https://localhost:8080/",
          "height": 67,
          "referenced_widgets": [
            "ccff56a9ba14473c87b26f1ec551fb5d",
            "283cf5e8939e442ebefa3753be3d3137",
            "8cd624a7921f4773b23d36795d87b34a",
            "f08baf4fadba403eb6a956de3ec7db89",
            "c67a3919e06045c0897b4cd5de6b2740",
            "b86955ba52874904afa08a5b0c695a61",
            "5621f0be5eb041bf8961d0dc4e939aa4",
            "c1fe2c69078b44ddbb1a5de72721bf07",
            "99b48c469d7e4549aa2d87e9cf680b5c",
            "0063f680d3904a4b8bf6cb5b1eababb5",
            "0bdb8249ba814aa69028ffce830c6f3a"
          ]
        },
        "id": "0cfd3a21",
        "outputId": "f5341c71-f1d1-4034-cc70-99645442c5c5"
      },
      "outputs": [
        {
          "output_type": "display_data",
          "data": {
            "text/plain": [
              "  0%|          | 0/10 [00:00<?, ?it/s]"
            ],
            "application/vnd.jupyter.widget-view+json": {
              "version_major": 2,
              "version_minor": 0,
              "model_id": "ccff56a9ba14473c87b26f1ec551fb5d"
            }
          },
          "metadata": {}
        },
        {
          "output_type": "stream",
          "name": "stdout",
          "text": [
            "Medium tests done!\n"
          ]
        }
      ],
      "source": [
        "for _ in tqdm(range(10)):\n",
        "    X = np.random.randn(200, 150)\n",
        "    y = np.random.randn(len(X))\n",
        "    bagging_regressor = SimplifiedBaggingRegressor(num_bags=20, oob=True)\n",
        "    bagging_regressor.fit(LinearRegression, X, y)\n",
        "    predictions = bagging_regressor.predict(X)\n",
        "    average_train_error = np.mean((predictions - y)**2)\n",
        "    assert bagging_regressor.oob, 'OOB feature must be turned on'\n",
        "    oob_score = bagging_regressor.OOB_score()\n",
        "    assert oob_score > average_train_error, 'OOB error must be higher than train error due to overfitting!'\n",
        "    assert abs(\n",
        "        np.mean(\n",
        "            list(map(len, bagging_regressor.list_of_predictions_lists))\n",
        "        ) / bagging_regressor.num_bags - 1/np.exp(1)) < 0.1, 'Probability of missing a bag should be close to theoretical value!'\n",
        "\n",
        "print('Medium tests done!')"
      ]
    },
    {
      "cell_type": "markdown",
      "id": "725818ff",
      "metadata": {
        "id": "725818ff"
      },
      "source": [
        "#### Complex tests:"
      ]
    },
    {
      "cell_type": "code",
      "execution_count": 19,
      "id": "8f929d6b",
      "metadata": {
        "colab": {
          "base_uri": "https://localhost:8080/",
          "height": 67,
          "referenced_widgets": [
            "be42908bbe50479db1e97a4d68d80d59",
            "216691996eaa45be91db93def033449c",
            "29c0c4fdbb3949e780d11ef1c2d3ec18",
            "22fa3a110e9a4869bd1d1e0f93db6d72",
            "93b41a4f57344bb4bbeafcb9f8bddc76",
            "d86fa9a4178d4b0e9b435bc90215b6fb",
            "13ab368fdf724b818090cfd7d773cb7e",
            "56f351c4978a4542a4881c9716cca2b1",
            "33ecdc5322aa4f309c9995b7642ae262",
            "35ffccb27e1a4956b997c95b40101b8a",
            "4e30f6532a0940d6b3d5d2219a9ff94a"
          ]
        },
        "id": "8f929d6b",
        "outputId": "b72e5162-5cea-410b-a948-8ef8109499d4"
      },
      "outputs": [
        {
          "output_type": "display_data",
          "data": {
            "text/plain": [
              "  0%|          | 0/10 [00:00<?, ?it/s]"
            ],
            "application/vnd.jupyter.widget-view+json": {
              "version_major": 2,
              "version_minor": 0,
              "model_id": "be42908bbe50479db1e97a4d68d80d59"
            }
          },
          "metadata": {}
        },
        {
          "output_type": "stream",
          "name": "stdout",
          "text": [
            "Complex tests done!\n"
          ]
        }
      ],
      "source": [
        "for _ in tqdm(range(10)):\n",
        "    X = np.random.randn(2000, 15)\n",
        "    y = np.random.randn(len(X))\n",
        "    bagging_regressor = SimplifiedBaggingRegressor(num_bags=100, oob=True)\n",
        "    bagging_regressor.fit(LinearRegression, X, y)\n",
        "    predictions = bagging_regressor.predict(X)\n",
        "    oob_score = bagging_regressor.OOB_score()\n",
        "    assert abs(\n",
        "        np.mean(\n",
        "            list(map(len, bagging_regressor.list_of_predictions_lists))\n",
        "        ) / bagging_regressor.num_bags - 1/np.exp(1)) < 1e-2, 'Probability of missing a bag should be close to theoretical value!'\n",
        "\n",
        "print('Complex tests done!')"
      ]
    },
    {
      "cell_type": "code",
      "execution_count": 20,
      "id": "af170ef8",
      "metadata": {
        "colab": {
          "base_uri": "https://localhost:8080/"
        },
        "id": "af170ef8",
        "outputId": "5fe02e82-0051-4aff-9126-706b8e298820"
      },
      "outputs": [
        {
          "output_type": "execute_result",
          "data": {
            "text/plain": [
              "-0.00022444117144232445"
            ]
          },
          "metadata": {},
          "execution_count": 20
        }
      ],
      "source": [
        "np.mean(\n",
        "            list(map(len, bagging_regressor.list_of_predictions_lists))\n",
        "        ) / bagging_regressor.num_bags - 1/np.exp(1)"
      ]
    },
    {
      "cell_type": "markdown",
      "id": "9535cb6d",
      "metadata": {
        "id": "9535cb6d"
      },
      "source": [
        "Great job! Please, save `SimplifiedBaggingRegressor` to  `bagging.py` and submit your solution to the grading system!"
      ]
    }
  ],
  "metadata": {
    "kernelspec": {
      "display_name": "Py3 Research",
      "language": "python",
      "name": "py3_research"
    },
    "language_info": {
      "codemirror_mode": {
        "name": "ipython",
        "version": 3
      },
      "file_extension": ".py",
      "mimetype": "text/x-python",
      "name": "python",
      "nbconvert_exporter": "python",
      "pygments_lexer": "ipython3",
      "version": "3.9.16"
    },
    "colab": {
      "provenance": []
    },
    "widgets": {
      "application/vnd.jupyter.widget-state+json": {
        "a220a474b7054bc7b1081544e6a12c41": {
          "model_module": "@jupyter-widgets/controls",
          "model_name": "HBoxModel",
          "model_module_version": "1.5.0",
          "state": {
            "_dom_classes": [],
            "_model_module": "@jupyter-widgets/controls",
            "_model_module_version": "1.5.0",
            "_model_name": "HBoxModel",
            "_view_count": null,
            "_view_module": "@jupyter-widgets/controls",
            "_view_module_version": "1.5.0",
            "_view_name": "HBoxView",
            "box_style": "",
            "children": [
              "IPY_MODEL_39045af389ff4a40bd32195b82da5dd4",
              "IPY_MODEL_75cb208312c142328fe60465a2e0f763",
              "IPY_MODEL_e78df4f21345435887db34f82089dfca"
            ],
            "layout": "IPY_MODEL_422ce3c9750745fca8e41bd94250ac14"
          }
        },
        "39045af389ff4a40bd32195b82da5dd4": {
          "model_module": "@jupyter-widgets/controls",
          "model_name": "HTMLModel",
          "model_module_version": "1.5.0",
          "state": {
            "_dom_classes": [],
            "_model_module": "@jupyter-widgets/controls",
            "_model_module_version": "1.5.0",
            "_model_name": "HTMLModel",
            "_view_count": null,
            "_view_module": "@jupyter-widgets/controls",
            "_view_module_version": "1.5.0",
            "_view_name": "HTMLView",
            "description": "",
            "description_tooltip": null,
            "layout": "IPY_MODEL_0df8bca7722947aaa8a3c2fe7f235312",
            "placeholder": "​",
            "style": "IPY_MODEL_2a47b0d86f554f8398705e05b210bcba",
            "value": "100%"
          }
        },
        "75cb208312c142328fe60465a2e0f763": {
          "model_module": "@jupyter-widgets/controls",
          "model_name": "FloatProgressModel",
          "model_module_version": "1.5.0",
          "state": {
            "_dom_classes": [],
            "_model_module": "@jupyter-widgets/controls",
            "_model_module_version": "1.5.0",
            "_model_name": "FloatProgressModel",
            "_view_count": null,
            "_view_module": "@jupyter-widgets/controls",
            "_view_module_version": "1.5.0",
            "_view_name": "ProgressView",
            "bar_style": "success",
            "description": "",
            "description_tooltip": null,
            "layout": "IPY_MODEL_93aac57a38d34dcfaa1db01565675cd3",
            "max": 100,
            "min": 0,
            "orientation": "horizontal",
            "style": "IPY_MODEL_21080f8b8bb54afd88c3f84044ec58d2",
            "value": 100
          }
        },
        "e78df4f21345435887db34f82089dfca": {
          "model_module": "@jupyter-widgets/controls",
          "model_name": "HTMLModel",
          "model_module_version": "1.5.0",
          "state": {
            "_dom_classes": [],
            "_model_module": "@jupyter-widgets/controls",
            "_model_module_version": "1.5.0",
            "_model_name": "HTMLModel",
            "_view_count": null,
            "_view_module": "@jupyter-widgets/controls",
            "_view_module_version": "1.5.0",
            "_view_name": "HTMLView",
            "description": "",
            "description_tooltip": null,
            "layout": "IPY_MODEL_16404250279b4621b454608f2bda0f1e",
            "placeholder": "​",
            "style": "IPY_MODEL_82ef5af999cd4fa1bee0901ece71cfc8",
            "value": " 100/100 [01:20&lt;00:00,  1.31it/s]"
          }
        },
        "422ce3c9750745fca8e41bd94250ac14": {
          "model_module": "@jupyter-widgets/base",
          "model_name": "LayoutModel",
          "model_module_version": "1.2.0",
          "state": {
            "_model_module": "@jupyter-widgets/base",
            "_model_module_version": "1.2.0",
            "_model_name": "LayoutModel",
            "_view_count": null,
            "_view_module": "@jupyter-widgets/base",
            "_view_module_version": "1.2.0",
            "_view_name": "LayoutView",
            "align_content": null,
            "align_items": null,
            "align_self": null,
            "border": null,
            "bottom": null,
            "display": null,
            "flex": null,
            "flex_flow": null,
            "grid_area": null,
            "grid_auto_columns": null,
            "grid_auto_flow": null,
            "grid_auto_rows": null,
            "grid_column": null,
            "grid_gap": null,
            "grid_row": null,
            "grid_template_areas": null,
            "grid_template_columns": null,
            "grid_template_rows": null,
            "height": null,
            "justify_content": null,
            "justify_items": null,
            "left": null,
            "margin": null,
            "max_height": null,
            "max_width": null,
            "min_height": null,
            "min_width": null,
            "object_fit": null,
            "object_position": null,
            "order": null,
            "overflow": null,
            "overflow_x": null,
            "overflow_y": null,
            "padding": null,
            "right": null,
            "top": null,
            "visibility": null,
            "width": null
          }
        },
        "0df8bca7722947aaa8a3c2fe7f235312": {
          "model_module": "@jupyter-widgets/base",
          "model_name": "LayoutModel",
          "model_module_version": "1.2.0",
          "state": {
            "_model_module": "@jupyter-widgets/base",
            "_model_module_version": "1.2.0",
            "_model_name": "LayoutModel",
            "_view_count": null,
            "_view_module": "@jupyter-widgets/base",
            "_view_module_version": "1.2.0",
            "_view_name": "LayoutView",
            "align_content": null,
            "align_items": null,
            "align_self": null,
            "border": null,
            "bottom": null,
            "display": null,
            "flex": null,
            "flex_flow": null,
            "grid_area": null,
            "grid_auto_columns": null,
            "grid_auto_flow": null,
            "grid_auto_rows": null,
            "grid_column": null,
            "grid_gap": null,
            "grid_row": null,
            "grid_template_areas": null,
            "grid_template_columns": null,
            "grid_template_rows": null,
            "height": null,
            "justify_content": null,
            "justify_items": null,
            "left": null,
            "margin": null,
            "max_height": null,
            "max_width": null,
            "min_height": null,
            "min_width": null,
            "object_fit": null,
            "object_position": null,
            "order": null,
            "overflow": null,
            "overflow_x": null,
            "overflow_y": null,
            "padding": null,
            "right": null,
            "top": null,
            "visibility": null,
            "width": null
          }
        },
        "2a47b0d86f554f8398705e05b210bcba": {
          "model_module": "@jupyter-widgets/controls",
          "model_name": "DescriptionStyleModel",
          "model_module_version": "1.5.0",
          "state": {
            "_model_module": "@jupyter-widgets/controls",
            "_model_module_version": "1.5.0",
            "_model_name": "DescriptionStyleModel",
            "_view_count": null,
            "_view_module": "@jupyter-widgets/base",
            "_view_module_version": "1.2.0",
            "_view_name": "StyleView",
            "description_width": ""
          }
        },
        "93aac57a38d34dcfaa1db01565675cd3": {
          "model_module": "@jupyter-widgets/base",
          "model_name": "LayoutModel",
          "model_module_version": "1.2.0",
          "state": {
            "_model_module": "@jupyter-widgets/base",
            "_model_module_version": "1.2.0",
            "_model_name": "LayoutModel",
            "_view_count": null,
            "_view_module": "@jupyter-widgets/base",
            "_view_module_version": "1.2.0",
            "_view_name": "LayoutView",
            "align_content": null,
            "align_items": null,
            "align_self": null,
            "border": null,
            "bottom": null,
            "display": null,
            "flex": null,
            "flex_flow": null,
            "grid_area": null,
            "grid_auto_columns": null,
            "grid_auto_flow": null,
            "grid_auto_rows": null,
            "grid_column": null,
            "grid_gap": null,
            "grid_row": null,
            "grid_template_areas": null,
            "grid_template_columns": null,
            "grid_template_rows": null,
            "height": null,
            "justify_content": null,
            "justify_items": null,
            "left": null,
            "margin": null,
            "max_height": null,
            "max_width": null,
            "min_height": null,
            "min_width": null,
            "object_fit": null,
            "object_position": null,
            "order": null,
            "overflow": null,
            "overflow_x": null,
            "overflow_y": null,
            "padding": null,
            "right": null,
            "top": null,
            "visibility": null,
            "width": null
          }
        },
        "21080f8b8bb54afd88c3f84044ec58d2": {
          "model_module": "@jupyter-widgets/controls",
          "model_name": "ProgressStyleModel",
          "model_module_version": "1.5.0",
          "state": {
            "_model_module": "@jupyter-widgets/controls",
            "_model_module_version": "1.5.0",
            "_model_name": "ProgressStyleModel",
            "_view_count": null,
            "_view_module": "@jupyter-widgets/base",
            "_view_module_version": "1.2.0",
            "_view_name": "StyleView",
            "bar_color": null,
            "description_width": ""
          }
        },
        "16404250279b4621b454608f2bda0f1e": {
          "model_module": "@jupyter-widgets/base",
          "model_name": "LayoutModel",
          "model_module_version": "1.2.0",
          "state": {
            "_model_module": "@jupyter-widgets/base",
            "_model_module_version": "1.2.0",
            "_model_name": "LayoutModel",
            "_view_count": null,
            "_view_module": "@jupyter-widgets/base",
            "_view_module_version": "1.2.0",
            "_view_name": "LayoutView",
            "align_content": null,
            "align_items": null,
            "align_self": null,
            "border": null,
            "bottom": null,
            "display": null,
            "flex": null,
            "flex_flow": null,
            "grid_area": null,
            "grid_auto_columns": null,
            "grid_auto_flow": null,
            "grid_auto_rows": null,
            "grid_column": null,
            "grid_gap": null,
            "grid_row": null,
            "grid_template_areas": null,
            "grid_template_columns": null,
            "grid_template_rows": null,
            "height": null,
            "justify_content": null,
            "justify_items": null,
            "left": null,
            "margin": null,
            "max_height": null,
            "max_width": null,
            "min_height": null,
            "min_width": null,
            "object_fit": null,
            "object_position": null,
            "order": null,
            "overflow": null,
            "overflow_x": null,
            "overflow_y": null,
            "padding": null,
            "right": null,
            "top": null,
            "visibility": null,
            "width": null
          }
        },
        "82ef5af999cd4fa1bee0901ece71cfc8": {
          "model_module": "@jupyter-widgets/controls",
          "model_name": "DescriptionStyleModel",
          "model_module_version": "1.5.0",
          "state": {
            "_model_module": "@jupyter-widgets/controls",
            "_model_module_version": "1.5.0",
            "_model_name": "DescriptionStyleModel",
            "_view_count": null,
            "_view_module": "@jupyter-widgets/base",
            "_view_module_version": "1.2.0",
            "_view_name": "StyleView",
            "description_width": ""
          }
        },
        "ccff56a9ba14473c87b26f1ec551fb5d": {
          "model_module": "@jupyter-widgets/controls",
          "model_name": "HBoxModel",
          "model_module_version": "1.5.0",
          "state": {
            "_dom_classes": [],
            "_model_module": "@jupyter-widgets/controls",
            "_model_module_version": "1.5.0",
            "_model_name": "HBoxModel",
            "_view_count": null,
            "_view_module": "@jupyter-widgets/controls",
            "_view_module_version": "1.5.0",
            "_view_name": "HBoxView",
            "box_style": "",
            "children": [
              "IPY_MODEL_283cf5e8939e442ebefa3753be3d3137",
              "IPY_MODEL_8cd624a7921f4773b23d36795d87b34a",
              "IPY_MODEL_f08baf4fadba403eb6a956de3ec7db89"
            ],
            "layout": "IPY_MODEL_c67a3919e06045c0897b4cd5de6b2740"
          }
        },
        "283cf5e8939e442ebefa3753be3d3137": {
          "model_module": "@jupyter-widgets/controls",
          "model_name": "HTMLModel",
          "model_module_version": "1.5.0",
          "state": {
            "_dom_classes": [],
            "_model_module": "@jupyter-widgets/controls",
            "_model_module_version": "1.5.0",
            "_model_name": "HTMLModel",
            "_view_count": null,
            "_view_module": "@jupyter-widgets/controls",
            "_view_module_version": "1.5.0",
            "_view_name": "HTMLView",
            "description": "",
            "description_tooltip": null,
            "layout": "IPY_MODEL_b86955ba52874904afa08a5b0c695a61",
            "placeholder": "​",
            "style": "IPY_MODEL_5621f0be5eb041bf8961d0dc4e939aa4",
            "value": "100%"
          }
        },
        "8cd624a7921f4773b23d36795d87b34a": {
          "model_module": "@jupyter-widgets/controls",
          "model_name": "FloatProgressModel",
          "model_module_version": "1.5.0",
          "state": {
            "_dom_classes": [],
            "_model_module": "@jupyter-widgets/controls",
            "_model_module_version": "1.5.0",
            "_model_name": "FloatProgressModel",
            "_view_count": null,
            "_view_module": "@jupyter-widgets/controls",
            "_view_module_version": "1.5.0",
            "_view_name": "ProgressView",
            "bar_style": "success",
            "description": "",
            "description_tooltip": null,
            "layout": "IPY_MODEL_c1fe2c69078b44ddbb1a5de72721bf07",
            "max": 10,
            "min": 0,
            "orientation": "horizontal",
            "style": "IPY_MODEL_99b48c469d7e4549aa2d87e9cf680b5c",
            "value": 10
          }
        },
        "f08baf4fadba403eb6a956de3ec7db89": {
          "model_module": "@jupyter-widgets/controls",
          "model_name": "HTMLModel",
          "model_module_version": "1.5.0",
          "state": {
            "_dom_classes": [],
            "_model_module": "@jupyter-widgets/controls",
            "_model_module_version": "1.5.0",
            "_model_name": "HTMLModel",
            "_view_count": null,
            "_view_module": "@jupyter-widgets/controls",
            "_view_module_version": "1.5.0",
            "_view_name": "HTMLView",
            "description": "",
            "description_tooltip": null,
            "layout": "IPY_MODEL_0063f680d3904a4b8bf6cb5b1eababb5",
            "placeholder": "​",
            "style": "IPY_MODEL_0bdb8249ba814aa69028ffce830c6f3a",
            "value": " 10/10 [00:04&lt;00:00,  2.61it/s]"
          }
        },
        "c67a3919e06045c0897b4cd5de6b2740": {
          "model_module": "@jupyter-widgets/base",
          "model_name": "LayoutModel",
          "model_module_version": "1.2.0",
          "state": {
            "_model_module": "@jupyter-widgets/base",
            "_model_module_version": "1.2.0",
            "_model_name": "LayoutModel",
            "_view_count": null,
            "_view_module": "@jupyter-widgets/base",
            "_view_module_version": "1.2.0",
            "_view_name": "LayoutView",
            "align_content": null,
            "align_items": null,
            "align_self": null,
            "border": null,
            "bottom": null,
            "display": null,
            "flex": null,
            "flex_flow": null,
            "grid_area": null,
            "grid_auto_columns": null,
            "grid_auto_flow": null,
            "grid_auto_rows": null,
            "grid_column": null,
            "grid_gap": null,
            "grid_row": null,
            "grid_template_areas": null,
            "grid_template_columns": null,
            "grid_template_rows": null,
            "height": null,
            "justify_content": null,
            "justify_items": null,
            "left": null,
            "margin": null,
            "max_height": null,
            "max_width": null,
            "min_height": null,
            "min_width": null,
            "object_fit": null,
            "object_position": null,
            "order": null,
            "overflow": null,
            "overflow_x": null,
            "overflow_y": null,
            "padding": null,
            "right": null,
            "top": null,
            "visibility": null,
            "width": null
          }
        },
        "b86955ba52874904afa08a5b0c695a61": {
          "model_module": "@jupyter-widgets/base",
          "model_name": "LayoutModel",
          "model_module_version": "1.2.0",
          "state": {
            "_model_module": "@jupyter-widgets/base",
            "_model_module_version": "1.2.0",
            "_model_name": "LayoutModel",
            "_view_count": null,
            "_view_module": "@jupyter-widgets/base",
            "_view_module_version": "1.2.0",
            "_view_name": "LayoutView",
            "align_content": null,
            "align_items": null,
            "align_self": null,
            "border": null,
            "bottom": null,
            "display": null,
            "flex": null,
            "flex_flow": null,
            "grid_area": null,
            "grid_auto_columns": null,
            "grid_auto_flow": null,
            "grid_auto_rows": null,
            "grid_column": null,
            "grid_gap": null,
            "grid_row": null,
            "grid_template_areas": null,
            "grid_template_columns": null,
            "grid_template_rows": null,
            "height": null,
            "justify_content": null,
            "justify_items": null,
            "left": null,
            "margin": null,
            "max_height": null,
            "max_width": null,
            "min_height": null,
            "min_width": null,
            "object_fit": null,
            "object_position": null,
            "order": null,
            "overflow": null,
            "overflow_x": null,
            "overflow_y": null,
            "padding": null,
            "right": null,
            "top": null,
            "visibility": null,
            "width": null
          }
        },
        "5621f0be5eb041bf8961d0dc4e939aa4": {
          "model_module": "@jupyter-widgets/controls",
          "model_name": "DescriptionStyleModel",
          "model_module_version": "1.5.0",
          "state": {
            "_model_module": "@jupyter-widgets/controls",
            "_model_module_version": "1.5.0",
            "_model_name": "DescriptionStyleModel",
            "_view_count": null,
            "_view_module": "@jupyter-widgets/base",
            "_view_module_version": "1.2.0",
            "_view_name": "StyleView",
            "description_width": ""
          }
        },
        "c1fe2c69078b44ddbb1a5de72721bf07": {
          "model_module": "@jupyter-widgets/base",
          "model_name": "LayoutModel",
          "model_module_version": "1.2.0",
          "state": {
            "_model_module": "@jupyter-widgets/base",
            "_model_module_version": "1.2.0",
            "_model_name": "LayoutModel",
            "_view_count": null,
            "_view_module": "@jupyter-widgets/base",
            "_view_module_version": "1.2.0",
            "_view_name": "LayoutView",
            "align_content": null,
            "align_items": null,
            "align_self": null,
            "border": null,
            "bottom": null,
            "display": null,
            "flex": null,
            "flex_flow": null,
            "grid_area": null,
            "grid_auto_columns": null,
            "grid_auto_flow": null,
            "grid_auto_rows": null,
            "grid_column": null,
            "grid_gap": null,
            "grid_row": null,
            "grid_template_areas": null,
            "grid_template_columns": null,
            "grid_template_rows": null,
            "height": null,
            "justify_content": null,
            "justify_items": null,
            "left": null,
            "margin": null,
            "max_height": null,
            "max_width": null,
            "min_height": null,
            "min_width": null,
            "object_fit": null,
            "object_position": null,
            "order": null,
            "overflow": null,
            "overflow_x": null,
            "overflow_y": null,
            "padding": null,
            "right": null,
            "top": null,
            "visibility": null,
            "width": null
          }
        },
        "99b48c469d7e4549aa2d87e9cf680b5c": {
          "model_module": "@jupyter-widgets/controls",
          "model_name": "ProgressStyleModel",
          "model_module_version": "1.5.0",
          "state": {
            "_model_module": "@jupyter-widgets/controls",
            "_model_module_version": "1.5.0",
            "_model_name": "ProgressStyleModel",
            "_view_count": null,
            "_view_module": "@jupyter-widgets/base",
            "_view_module_version": "1.2.0",
            "_view_name": "StyleView",
            "bar_color": null,
            "description_width": ""
          }
        },
        "0063f680d3904a4b8bf6cb5b1eababb5": {
          "model_module": "@jupyter-widgets/base",
          "model_name": "LayoutModel",
          "model_module_version": "1.2.0",
          "state": {
            "_model_module": "@jupyter-widgets/base",
            "_model_module_version": "1.2.0",
            "_model_name": "LayoutModel",
            "_view_count": null,
            "_view_module": "@jupyter-widgets/base",
            "_view_module_version": "1.2.0",
            "_view_name": "LayoutView",
            "align_content": null,
            "align_items": null,
            "align_self": null,
            "border": null,
            "bottom": null,
            "display": null,
            "flex": null,
            "flex_flow": null,
            "grid_area": null,
            "grid_auto_columns": null,
            "grid_auto_flow": null,
            "grid_auto_rows": null,
            "grid_column": null,
            "grid_gap": null,
            "grid_row": null,
            "grid_template_areas": null,
            "grid_template_columns": null,
            "grid_template_rows": null,
            "height": null,
            "justify_content": null,
            "justify_items": null,
            "left": null,
            "margin": null,
            "max_height": null,
            "max_width": null,
            "min_height": null,
            "min_width": null,
            "object_fit": null,
            "object_position": null,
            "order": null,
            "overflow": null,
            "overflow_x": null,
            "overflow_y": null,
            "padding": null,
            "right": null,
            "top": null,
            "visibility": null,
            "width": null
          }
        },
        "0bdb8249ba814aa69028ffce830c6f3a": {
          "model_module": "@jupyter-widgets/controls",
          "model_name": "DescriptionStyleModel",
          "model_module_version": "1.5.0",
          "state": {
            "_model_module": "@jupyter-widgets/controls",
            "_model_module_version": "1.5.0",
            "_model_name": "DescriptionStyleModel",
            "_view_count": null,
            "_view_module": "@jupyter-widgets/base",
            "_view_module_version": "1.2.0",
            "_view_name": "StyleView",
            "description_width": ""
          }
        },
        "be42908bbe50479db1e97a4d68d80d59": {
          "model_module": "@jupyter-widgets/controls",
          "model_name": "HBoxModel",
          "model_module_version": "1.5.0",
          "state": {
            "_dom_classes": [],
            "_model_module": "@jupyter-widgets/controls",
            "_model_module_version": "1.5.0",
            "_model_name": "HBoxModel",
            "_view_count": null,
            "_view_module": "@jupyter-widgets/controls",
            "_view_module_version": "1.5.0",
            "_view_name": "HBoxView",
            "box_style": "",
            "children": [
              "IPY_MODEL_216691996eaa45be91db93def033449c",
              "IPY_MODEL_29c0c4fdbb3949e780d11ef1c2d3ec18",
              "IPY_MODEL_22fa3a110e9a4869bd1d1e0f93db6d72"
            ],
            "layout": "IPY_MODEL_93b41a4f57344bb4bbeafcb9f8bddc76"
          }
        },
        "216691996eaa45be91db93def033449c": {
          "model_module": "@jupyter-widgets/controls",
          "model_name": "HTMLModel",
          "model_module_version": "1.5.0",
          "state": {
            "_dom_classes": [],
            "_model_module": "@jupyter-widgets/controls",
            "_model_module_version": "1.5.0",
            "_model_name": "HTMLModel",
            "_view_count": null,
            "_view_module": "@jupyter-widgets/controls",
            "_view_module_version": "1.5.0",
            "_view_name": "HTMLView",
            "description": "",
            "description_tooltip": null,
            "layout": "IPY_MODEL_d86fa9a4178d4b0e9b435bc90215b6fb",
            "placeholder": "​",
            "style": "IPY_MODEL_13ab368fdf724b818090cfd7d773cb7e",
            "value": "100%"
          }
        },
        "29c0c4fdbb3949e780d11ef1c2d3ec18": {
          "model_module": "@jupyter-widgets/controls",
          "model_name": "FloatProgressModel",
          "model_module_version": "1.5.0",
          "state": {
            "_dom_classes": [],
            "_model_module": "@jupyter-widgets/controls",
            "_model_module_version": "1.5.0",
            "_model_name": "FloatProgressModel",
            "_view_count": null,
            "_view_module": "@jupyter-widgets/controls",
            "_view_module_version": "1.5.0",
            "_view_name": "ProgressView",
            "bar_style": "success",
            "description": "",
            "description_tooltip": null,
            "layout": "IPY_MODEL_56f351c4978a4542a4881c9716cca2b1",
            "max": 10,
            "min": 0,
            "orientation": "horizontal",
            "style": "IPY_MODEL_33ecdc5322aa4f309c9995b7642ae262",
            "value": 10
          }
        },
        "22fa3a110e9a4869bd1d1e0f93db6d72": {
          "model_module": "@jupyter-widgets/controls",
          "model_name": "HTMLModel",
          "model_module_version": "1.5.0",
          "state": {
            "_dom_classes": [],
            "_model_module": "@jupyter-widgets/controls",
            "_model_module_version": "1.5.0",
            "_model_name": "HTMLModel",
            "_view_count": null,
            "_view_module": "@jupyter-widgets/controls",
            "_view_module_version": "1.5.0",
            "_view_name": "HTMLView",
            "description": "",
            "description_tooltip": null,
            "layout": "IPY_MODEL_35ffccb27e1a4956b997c95b40101b8a",
            "placeholder": "​",
            "style": "IPY_MODEL_4e30f6532a0940d6b3d5d2219a9ff94a",
            "value": " 10/10 [01:12&lt;00:00,  7.12s/it]"
          }
        },
        "93b41a4f57344bb4bbeafcb9f8bddc76": {
          "model_module": "@jupyter-widgets/base",
          "model_name": "LayoutModel",
          "model_module_version": "1.2.0",
          "state": {
            "_model_module": "@jupyter-widgets/base",
            "_model_module_version": "1.2.0",
            "_model_name": "LayoutModel",
            "_view_count": null,
            "_view_module": "@jupyter-widgets/base",
            "_view_module_version": "1.2.0",
            "_view_name": "LayoutView",
            "align_content": null,
            "align_items": null,
            "align_self": null,
            "border": null,
            "bottom": null,
            "display": null,
            "flex": null,
            "flex_flow": null,
            "grid_area": null,
            "grid_auto_columns": null,
            "grid_auto_flow": null,
            "grid_auto_rows": null,
            "grid_column": null,
            "grid_gap": null,
            "grid_row": null,
            "grid_template_areas": null,
            "grid_template_columns": null,
            "grid_template_rows": null,
            "height": null,
            "justify_content": null,
            "justify_items": null,
            "left": null,
            "margin": null,
            "max_height": null,
            "max_width": null,
            "min_height": null,
            "min_width": null,
            "object_fit": null,
            "object_position": null,
            "order": null,
            "overflow": null,
            "overflow_x": null,
            "overflow_y": null,
            "padding": null,
            "right": null,
            "top": null,
            "visibility": null,
            "width": null
          }
        },
        "d86fa9a4178d4b0e9b435bc90215b6fb": {
          "model_module": "@jupyter-widgets/base",
          "model_name": "LayoutModel",
          "model_module_version": "1.2.0",
          "state": {
            "_model_module": "@jupyter-widgets/base",
            "_model_module_version": "1.2.0",
            "_model_name": "LayoutModel",
            "_view_count": null,
            "_view_module": "@jupyter-widgets/base",
            "_view_module_version": "1.2.0",
            "_view_name": "LayoutView",
            "align_content": null,
            "align_items": null,
            "align_self": null,
            "border": null,
            "bottom": null,
            "display": null,
            "flex": null,
            "flex_flow": null,
            "grid_area": null,
            "grid_auto_columns": null,
            "grid_auto_flow": null,
            "grid_auto_rows": null,
            "grid_column": null,
            "grid_gap": null,
            "grid_row": null,
            "grid_template_areas": null,
            "grid_template_columns": null,
            "grid_template_rows": null,
            "height": null,
            "justify_content": null,
            "justify_items": null,
            "left": null,
            "margin": null,
            "max_height": null,
            "max_width": null,
            "min_height": null,
            "min_width": null,
            "object_fit": null,
            "object_position": null,
            "order": null,
            "overflow": null,
            "overflow_x": null,
            "overflow_y": null,
            "padding": null,
            "right": null,
            "top": null,
            "visibility": null,
            "width": null
          }
        },
        "13ab368fdf724b818090cfd7d773cb7e": {
          "model_module": "@jupyter-widgets/controls",
          "model_name": "DescriptionStyleModel",
          "model_module_version": "1.5.0",
          "state": {
            "_model_module": "@jupyter-widgets/controls",
            "_model_module_version": "1.5.0",
            "_model_name": "DescriptionStyleModel",
            "_view_count": null,
            "_view_module": "@jupyter-widgets/base",
            "_view_module_version": "1.2.0",
            "_view_name": "StyleView",
            "description_width": ""
          }
        },
        "56f351c4978a4542a4881c9716cca2b1": {
          "model_module": "@jupyter-widgets/base",
          "model_name": "LayoutModel",
          "model_module_version": "1.2.0",
          "state": {
            "_model_module": "@jupyter-widgets/base",
            "_model_module_version": "1.2.0",
            "_model_name": "LayoutModel",
            "_view_count": null,
            "_view_module": "@jupyter-widgets/base",
            "_view_module_version": "1.2.0",
            "_view_name": "LayoutView",
            "align_content": null,
            "align_items": null,
            "align_self": null,
            "border": null,
            "bottom": null,
            "display": null,
            "flex": null,
            "flex_flow": null,
            "grid_area": null,
            "grid_auto_columns": null,
            "grid_auto_flow": null,
            "grid_auto_rows": null,
            "grid_column": null,
            "grid_gap": null,
            "grid_row": null,
            "grid_template_areas": null,
            "grid_template_columns": null,
            "grid_template_rows": null,
            "height": null,
            "justify_content": null,
            "justify_items": null,
            "left": null,
            "margin": null,
            "max_height": null,
            "max_width": null,
            "min_height": null,
            "min_width": null,
            "object_fit": null,
            "object_position": null,
            "order": null,
            "overflow": null,
            "overflow_x": null,
            "overflow_y": null,
            "padding": null,
            "right": null,
            "top": null,
            "visibility": null,
            "width": null
          }
        },
        "33ecdc5322aa4f309c9995b7642ae262": {
          "model_module": "@jupyter-widgets/controls",
          "model_name": "ProgressStyleModel",
          "model_module_version": "1.5.0",
          "state": {
            "_model_module": "@jupyter-widgets/controls",
            "_model_module_version": "1.5.0",
            "_model_name": "ProgressStyleModel",
            "_view_count": null,
            "_view_module": "@jupyter-widgets/base",
            "_view_module_version": "1.2.0",
            "_view_name": "StyleView",
            "bar_color": null,
            "description_width": ""
          }
        },
        "35ffccb27e1a4956b997c95b40101b8a": {
          "model_module": "@jupyter-widgets/base",
          "model_name": "LayoutModel",
          "model_module_version": "1.2.0",
          "state": {
            "_model_module": "@jupyter-widgets/base",
            "_model_module_version": "1.2.0",
            "_model_name": "LayoutModel",
            "_view_count": null,
            "_view_module": "@jupyter-widgets/base",
            "_view_module_version": "1.2.0",
            "_view_name": "LayoutView",
            "align_content": null,
            "align_items": null,
            "align_self": null,
            "border": null,
            "bottom": null,
            "display": null,
            "flex": null,
            "flex_flow": null,
            "grid_area": null,
            "grid_auto_columns": null,
            "grid_auto_flow": null,
            "grid_auto_rows": null,
            "grid_column": null,
            "grid_gap": null,
            "grid_row": null,
            "grid_template_areas": null,
            "grid_template_columns": null,
            "grid_template_rows": null,
            "height": null,
            "justify_content": null,
            "justify_items": null,
            "left": null,
            "margin": null,
            "max_height": null,
            "max_width": null,
            "min_height": null,
            "min_width": null,
            "object_fit": null,
            "object_position": null,
            "order": null,
            "overflow": null,
            "overflow_x": null,
            "overflow_y": null,
            "padding": null,
            "right": null,
            "top": null,
            "visibility": null,
            "width": null
          }
        },
        "4e30f6532a0940d6b3d5d2219a9ff94a": {
          "model_module": "@jupyter-widgets/controls",
          "model_name": "DescriptionStyleModel",
          "model_module_version": "1.5.0",
          "state": {
            "_model_module": "@jupyter-widgets/controls",
            "_model_module_version": "1.5.0",
            "_model_name": "DescriptionStyleModel",
            "_view_count": null,
            "_view_module": "@jupyter-widgets/base",
            "_view_module_version": "1.2.0",
            "_view_name": "StyleView",
            "description_width": ""
          }
        }
      }
    }
  },
  "nbformat": 4,
  "nbformat_minor": 5
}
